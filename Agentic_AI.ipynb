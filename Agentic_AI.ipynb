{
  "cells": [
    {
      "cell_type": "code",
      "execution_count": null,
      "metadata": {
        "colab": {
          "base_uri": "https://localhost:8080/",
          "height": 1000
        },
        "id": "_dOsP1elveyY",
        "outputId": "7b575ea5-99d0-4057-cca1-47e02eaacd84"
      },
      "outputs": [],
      "source": [
        "!pip install streamlit==1.38.0\n",
        "!pip install langchain-community==0.2.16\n",
        "!pip install langgraph==0.2.14\n",
        "!pip install fpdf==1.7.2\n",
        "!pip install python-dotenv==1.0.1\n",
        "!pip install langchain-google-genai"
      ]
    },
    {
      "cell_type": "code",
      "execution_count": null,
      "metadata": {
        "id": "HrUlwAYS5f0x"
      },
      "outputs": [],
      "source": [
        "# ------------------ Graph State Definition ------------------\n",
        "\n",
        "class GraphState(TypedDict):\n",
        "    preferences_text: str\n",
        "    preferences: dict\n",
        "    itinerary: str\n",
        "    activity_suggestions: str\n",
        "    useful_links: list[dict]\n",
        "    weather_forecast: str\n",
        "    packing_list: str\n",
        "    food_culture_info: str\n",
        "    chat_history: Annotated[list[dict], \"List of question-response pairs\"]\n",
        "    user_question: str\n",
        "    chat_response: str"
      ]
    },
    {
      "cell_type": "code",
      "execution_count": null,
      "metadata": {
        "id": "x8DYUqp-8H3Y"
      },
      "outputs": [],
      "source": [
        "def generate_itinerary(state: GraphState):\n",
        "    prompt = f\"\"\"\n",
        "    Using the following preferences, create a detailed itinerary:\n",
        "    {json.dumps(state['preferences'], indent=2)}\n",
        "\n",
        "    Include sections for each day, dining options, and downtime.\n",
        "    \"\"\"\n",
        "    result = llm.invoke(prompt).content\n",
        "    return {\"itinerary\": result.strip()}"
      ]
    },
    {
      "cell_type": "code",
      "execution_count": null,
      "metadata": {
        "id": "3QKXgldV8S9d"
      },
      "outputs": [],
      "source": [
        "def recommend_activities(state: GraphState):\n",
        "    prompt = f\"\"\"\n",
        "    Based on the following preferences and itinerary, suggest unique local activities:\n",
        "    Preferences: {json.dumps(state['preferences'], indent=2)}\n",
        "    Itinerary: {state['itinerary']}\n",
        "    Provide suggestions in bullet points for each day if possible.\n",
        "    \"\"\"\n",
        "    result = llm.invoke(prompt).content\n",
        "    return {\"activity_suggestions\": result.strip()}"
      ]
    },
    {
      "cell_type": "code",
      "execution_count": null,
      "metadata": {
        "id": "uF71Cdarakcj"
      },
      "outputs": [],
      "source": [
        "def fetch_useful_links(state: GraphState):\n",
        "    search = GoogleSerperAPIWrapper()\n",
        "    destination = state['preferences'].get('destination', '')\n",
        "    month = state['preferences'].get('month', '')\n",
        "    query = f\"Travel tips and guides for {destination} in {month}\"\n",
        "    try:\n",
        "        search_results = search.results(query)\n",
        "        organic_results = search_results.get(\"organic\", [])\n",
        "        links = [\n",
        "            {\"title\": result.get(\"title\", \"No title\"), \"link\": result.get(\"link\", \"\")}\n",
        "            for result in organic_results[:5]\n",
        "        ]\n",
        "        return {\"useful_links\": links}\n",
        "    except Exception as e:\n",
        "        return {\"useful_links\": [], \"warning\": f\"Failed to fetch links: {str(e)}\"}"
      ]
    },
    {
      "cell_type": "code",
      "execution_count": null,
      "metadata": {
        "id": "wn8Tm6HZayfH"
      },
      "outputs": [],
      "source": [
        "def weather_forecaster(state: GraphState):\n",
        "    prompt = f\"\"\"\n",
        "    Based on the destination and month, provide a detailed weather forecast including temperature, precipitation, and advice for travelers:\n",
        "    Destination: {state['preferences'].get('destination', '')}\n",
        "    Month: {state['preferences'].get('month', '')}\n",
        "    \"\"\"\n",
        "    result = llm.invoke(prompt).content\n",
        "    return {\"weather_forecast\": result.strip()}"
      ]
    },
    {
      "cell_type": "code",
      "execution_count": null,
      "metadata": {
        "id": "pNS0NBu4a_SV"
      },
      "outputs": [],
      "source": [
        "def packing_list_generator(state: GraphState):\n",
        "    prompt = f\"\"\"\n",
        "    Generate a comprehensive packing list for a {state['preferences'].get('holiday_type', 'general')} holiday in {state['preferences'].get('destination', '')} during {state['preferences'].get('month', '')} for {state['preferences'].get('duration', 0)} days.\n",
        "    Include essentials based on expected weather and trip type.\n",
        "    \"\"\"\n",
        "    result = llm.invoke(prompt).content\n",
        "    return {\"packing_list\": result.strip()}"
      ]
    },
    {
      "cell_type": "code",
      "execution_count": null,
      "metadata": {
        "id": "bZlMdEPibRt6"
      },
      "outputs": [],
      "source": [
        "def food_culture_recommender(state: GraphState):\n",
        "    prompt = f\"\"\"\n",
        "    For a trip to {state['preferences'].get('destination', '')} with a {state['preferences'].get('budget_type', 'mid-range')} budget:\n",
        "    1. Suggest popular local dishes and recommended dining options.\n",
        "    2. Provide important cultural norms, etiquette tips, and things travelers should be aware of.\n",
        "    Format the response with clear sections for 'Food & Dining' and 'Culture & Etiquette'.\n",
        "    \"\"\"\n",
        "    result = llm.invoke(prompt).content\n",
        "    return {\"food_culture_info\": result.strip()}"
      ]
    },
    {
      "cell_type": "code",
      "execution_count": null,
      "metadata": {
        "colab": {
          "base_uri": "https://localhost:8080/",
          "height": 747
        },
        "id": "5_aT-8chbtCv",
        "outputId": "6842ca01-1001-48a0-e67f-4a87bfb02194"
      },
      "outputs": [
        {
          "data": {
            "image/png": "[encoded data removed]",
            "text/plain": [
              "<IPython.core.display.Image object>"
            ]
          },
          "execution_count": 11,
          "metadata": {},
          "output_type": "execute_result"
        }
      ],
      "source": [
        "# ------------------ Build LangGraph ------------------\n",
        "\n",
        "workflow = StateGraph(GraphState)\n",
        "workflow.add_node(\"generate_itinerary\", generate_itinerary)\n",
        "workflow.add_node(\"recommend_activities\", recommend_activities)\n",
        "workflow.add_node(\"fetch_useful_links\", fetch_useful_links)\n",
        "workflow.add_node(\"weather_forecaster\", weather_forecaster)\n",
        "workflow.add_node(\"packing_list_generator\", packing_list_generator)\n",
        "workflow.add_node(\"food_culture_recommender\", food_culture_recommender)\n",
        "\n",
        "workflow.set_entry_point(\"generate_itinerary\")\n",
        "workflow.add_edge(\"generate_itinerary\", \"recommend_activities\")\n",
        "workflow.add_edge(\"recommend_activities\", \"fetch_useful_links\")\n",
        "workflow.add_edge(\"fetch_useful_links\", \"weather_forecaster\")\n",
        "workflow.add_edge(\"weather_forecaster\", \"packing_list_generator\")\n",
        "workflow.add_edge(\"packing_list_generator\", \"food_culture_recommender\")\n",
        "workflow.add_edge(\"food_culture_recommender\", END)\n",
        "\n",
        "graph = workflow.compile()\n",
        "\n",
        "# ------------------ Plot the Graph ------------------\n",
        "\n",
        "Image(graph.get_graph().draw_mermaid_png())"
      ]
    },
    {
      "cell_type": "code",
      "execution_count": null,
      "metadata": {
        "colab": {
          "base_uri": "https://localhost:8080/"
        },
        "id": "KncMlfF6K7yZ",
        "outputId": "42bf3da6-3b07-465b-e964-c3922430c9f5"
      },
      "outputs": [],
      "source": [
        "# ------------------ Run the Graph ------------------\n",
        "\n",
        "# Sample user input\n",
        "preferences = {\n",
        "    \"destination\": \"Lagos\",\n",
        "    \"month\": \"December\",\n",
        "    \"duration\": 3,\n",
        "    \"num_people\": \"2\",\n",
        "    \"holiday_type\": \"Romantic\",\n",
        "    \"budget_type\": \"Luxury\",\n",
        "    \"comments\": \"Include romantic dinners and scenic walks\"\n",
        "}\n",
        "\n",
        "initial_state: GraphState = {\n",
        "    \"preferences_text\": \"\\n\".join([f\"{k}: {v}\" for k, v in preferences.items()]),\n",
        "    \"preferences\": preferences,\n",
        "    \"itinerary\": \"\",\n",
        "    \"activity_suggestions\": \"\",\n",
        "    \"useful_links\": [],\n",
        "    \"weather_forecast\": \"\",\n",
        "    \"packing_list\": \"\",\n",
        "    \"food_culture_info\": \"\",\n",
        "    \"chat_history\": [],\n",
        "    \"user_question\": \"\",\n",
        "    \"chat_response\": \"\"\n",
        "}\n",
        "\n",
        "print(\"🧭 Running graph...\\n\")\n",
        "result = graph.invoke(initial_state)\n",
        "\n",
        "\n",
        "\n",
        "# ------------------ Output ------------------\n",
        "\n",
        "print(\"\\n🗓️ Itinerary:\\n\", result[\"itinerary\"])"
      ]
    },
    {
      "cell_type": "code",
      "execution_count": null,
      "metadata": {
        "id": "v5AEBKNQA7Os"
      },
      "outputs": [],
      "source": []
    },
    {
      "cell_type": "code",
      "execution_count": null,
      "metadata": {
        "colab": {
          "base_uri": "https://localhost:8080/"
        },
        "id": "Z2o-MeJqcfLd",
        "outputId": "7ebafe54-1eba-4694-a061-531c9b81d7b3"
      },
      "outputs": [],
      "source": [
        "print(\"\\n🎯 Activities:\\n\", result[\"activity_suggestions\"])"
      ]
    },
    {
      "cell_type": "code",
      "execution_count": null,
      "metadata": {
        "colab": {
          "base_uri": "https://localhost:8080/"
        },
        "id": "OFjXtvMbchl9",
        "outputId": "38ceff52-701a-4b8b-b349-3fb9bb94960a"
      },
      "outputs": [],
      "source": [
        "print(\"\\n🌤️ Weather:\\n\", result[\"weather_forecast\"])\n"
      ]
    },
    {
      "cell_type": "code",
      "execution_count": null,
      "metadata": {
        "colab": {
          "base_uri": "https://localhost:8080/"
        },
        "id": "4FWzoXBxcjTj",
        "outputId": "e7081c97-d77d-4ef4-ce38-7251d78cde47"
      },
      "outputs": [],
      "source": [
        "print(\"\\n🎒 Packing List:\\n\", result[\"packing_list\"])\n"
      ]
    },
    {
      "cell_type": "code",
      "execution_count": null,
      "metadata": {
        "colab": {
          "base_uri": "https://localhost:8080/"
        },
        "id": "ASH7T2nJclL3",
        "outputId": "3d723b5a-d79c-4d9f-9bf5-2ce60933b064"
      },
      "outputs": [],
      "source": [
        "print(\"\\n🍽️ Food & Culture:\\n\", result[\"food_culture_info\"])\n"
      ]
    },
    {
      "cell_type": "code",
      "execution_count": null,
      "metadata": {
        "colab": {
          "base_uri": "https://localhost:8080/"
        },
        "id": "zwwHxOTrcnFO",
        "outputId": "dcccc98d-4cea-4236-d6eb-956dd2f8b36b"
      },
      "outputs": [],
      "source": [
        "print(\"\\n🔗 Useful Links:\")\n",
        "for link in result[\"useful_links\"]:\n",
        "    print(f\"- {link['title']}: {link['link']}\")"
      ]
    },
    {
      "cell_type": "code",
      "execution_count": null,
      "metadata": {
        "id": "rKg-_WzNCRia"
      },
      "outputs": [],
      "source": []
    },
    {
      "cell_type": "code",
      "execution_count": null,
      "metadata": {
        "colab": {
          "base_uri": "https://localhost:8080/"
        },
        "id": "NgGKynxb7Xxd",
        "outputId": "b35c490f-4b41-477f-8b6b-27f1b99cdc45"
      },
      "outputs": [],
      "source": [
        "%%writefile app.py\n",
        "\n",
        "import streamlit as st\n",
        "import json\n",
        "from typing import TypedDict, Annotated\n",
        "from langgraph.graph import StateGraph, END\n",
        "from langchain_core.messages import HumanMessage\n",
        "import json\n",
        "from langchain_community.utilities import GoogleSerperAPIWrapper\n",
        "from dotenv import load_dotenv\n",
        "import os\n",
        "from langchain_google_genai import ChatGoogleGenerativeAI\n",
        "import tempfile\n",
        "from fpdf import FPDF\n",
        "\n",
        "#Change your API to an envrionment variable\n",
        "SERPER_API_KEY= os.environ.get(\"SERPER_API_KEY\")\n",
        "google_api_key = os.environ.get(\"GOOGLE_API_KEY\")\n",
        "\n",
        "# Initialize LLM\n",
        "st.set_page_config(page_title=\"AI Travel Planner\", layout=\"wide\")\n",
        "try:\n",
        "    llm = ChatGoogleGenerativeAI(api_key=google_api_key, model='gemini-2.0-flash')\n",
        "except Exception as e:\n",
        "    st.error(f\"LLM initialization failed: {str(e)}\")\n",
        "    st.stop()\n",
        "\n",
        "# Initialize GoogleSerperAPIWrapper\n",
        "try:\n",
        "    search = GoogleSerperAPIWrapper()\n",
        "except Exception as e:\n",
        "    st.error(f\"Serper API initialization failed: {str(e)}\")\n",
        "    st.stop()\n",
        "\n",
        "\n",
        "# Export to PDF\n",
        "def export_to_pdf(itinerary_text):\n",
        "    pdf = FPDF()\n",
        "    pdf.add_page()\n",
        "    pdf.set_font(\"Arial\", size=12)\n",
        "    try:\n",
        "        for line in itinerary_text.split(\"\\n\"):\n",
        "            line = line.encode('latin-1', 'replace').decode('latin-1')\n",
        "            pdf.multi_cell(0, 10, line)\n",
        "        temp_file = tempfile.NamedTemporaryFile(delete=False, suffix=\".pdf\")\n",
        "        pdf.output(temp_file.name)\n",
        "        return temp_file.name\n",
        "    except Exception as e:\n",
        "        raise Exception(f\"PDF generation failed: {str(e)}\")\n",
        "\n",
        "\n",
        "def chat_node(state):\n",
        "    prompt = f\"\"\"\n",
        "    Context:\n",
        "    Preferences: {json.dumps(state['preferences'], indent=2)}\n",
        "    Itinerary: {state['itinerary']}\n",
        "\n",
        "    User Question:\n",
        "    {state['user_question']}\n",
        "\n",
        "    Respond conversationally with insights or suggestions : keep your response brief\n",
        "    {{ \"chat_response\": \"Your response here\" }}\n",
        "    \"\"\"\n",
        "    try:\n",
        "        result = llm.invoke(prompt).content\n",
        "        try:\n",
        "            parsed = json.loads(result.strip())\n",
        "            response = parsed.get(\"chat_response\", result.strip())\n",
        "        except json.JSONDecodeError:\n",
        "            response = result.strip()\n",
        "        chat_entry = {\"question\": state['user_question'], \"response\": response}\n",
        "        chat_history = state.get('chat_history', []) + [chat_entry]\n",
        "        return {\"chat_response\": response, \"chat_history\": chat_history}\n",
        "    except Exception as e:\n",
        "        return {\"chat_response\": \"\", \"warning\": str(e)}\n",
        "\n",
        "def fetch_useful_links(state):\n",
        "    search = GoogleSerperAPIWrapper()\n",
        "    destination = state['preferences'].get('destination', '')\n",
        "    month = state['preferences'].get('month', '')\n",
        "    query = f\"Travel tips and guides for {destination} in {month}\"\n",
        "    try:\n",
        "        search_results = search.results(query)\n",
        "        organic_results = search_results.get(\"organic\", [])\n",
        "        links = [\n",
        "            {\"title\": result.get(\"title\", \"No title\"), \"link\": result.get(\"link\", \"\")}\n",
        "            for result in organic_results[:5]\n",
        "        ]\n",
        "        return {\"useful_links\": links}\n",
        "    except Exception as e:\n",
        "        return {\"useful_links\": [], \"warning\": f\"Failed to fetch links: {str(e)}\"}\n",
        "\n",
        "\n",
        "def food_culture_recommender(state):\n",
        "    prompt = f\"\"\"\n",
        "    For a trip to {state['preferences'].get('destination', '')} with a {state['preferences'].get('budget_type', 'mid-range')} budget:\n",
        "    1. Suggest popular local dishes and recommended dining options.\n",
        "    2. Provide important cultural norms, etiquette tips, and things travelers should be aware of.\n",
        "    Format the response with clear sections for 'Food & Dining' and 'Culture & Etiquette'.\n",
        "    \"\"\"\n",
        "    try:\n",
        "        result = llm.invoke(prompt).content\n",
        "        return {\"food_culture_info\": result.strip()}\n",
        "    except Exception as e:\n",
        "        return {\"food_culture_info\": \"\", \"warning\": str(e)}\n",
        "\n",
        "\n",
        "def generate_itinerary(state):\n",
        "\n",
        "    prompt = f\"\"\"\n",
        "    Using the following preferences, create a detailed itinerary:\n",
        "    {json.dumps(state['preferences'], indent=2)}\n",
        "\n",
        "    Include sections for each day, dining options, and downtime.\n",
        "    \"\"\"\n",
        "    try:\n",
        "        result = llm.invoke(prompt).content\n",
        "        return {\"itinerary\": result.strip()}\n",
        "    except Exception as e:\n",
        "        return {\"itinerary\": \"\", \"warning\": str(e)}\n",
        "\n",
        "def packing_list_generator(state):\n",
        "    prompt = f\"\"\"\n",
        "    Generate a comprehensive packing list for a {state['preferences'].get('holiday_type', 'general')} holiday in {state['preferences'].get('destination', '')} during {state['preferences'].get('month', '')} for {state['preferences'].get('duration', 0)} days.\n",
        "    Include essentials based on expected weather and trip type.\n",
        "    \"\"\"\n",
        "    try:\n",
        "        result = llm.invoke(prompt).content\n",
        "        return {\"packing_list\": result.strip()}\n",
        "    except Exception as e:\n",
        "        return {\"packing_list\": \"\", \"warning\": str(e)}\n",
        "\n",
        "def recommend_activities(state):\n",
        "    prompt = f\"\"\"\n",
        "    Based on the following preferences and itinerary, suggest unique local activities:\n",
        "    Preferences: {json.dumps(state['preferences'], indent=2)}\n",
        "    Itinerary: {state['itinerary']}\n",
        "\n",
        "    Provide suggestions in bullet points for each day if possible.\n",
        "    \"\"\"\n",
        "    try:\n",
        "        result = llm.invoke(prompt).content\n",
        "        return {\"activity_suggestions\": result.strip()}\n",
        "    except Exception as e:\n",
        "        return {\"activity_suggestions\": \"\", \"warning\": str(e)}\n",
        "\n",
        "def weather_forecaster(state):\n",
        "\n",
        "    prompt = f\"\"\"\n",
        "    Based on the destination and month, provide a detailed weather forecast including temperature, precipitation, and advice for travelers:\n",
        "    Destination: {state['preferences'].get('destination', '')}\n",
        "    Month: {state['preferences'].get('month', '')}\n",
        "    \"\"\"\n",
        "    try:\n",
        "        result = llm.invoke(prompt).content\n",
        "        return {\"weather_forecast\": result.strip()}\n",
        "    except Exception as e:\n",
        "        return {\"weather_forecast\": \"\", \"warning\": str(e)}\n",
        "\n",
        "\n",
        "# Define state\n",
        "class GraphState(TypedDict):\n",
        "    preferences_text: str\n",
        "    preferences: dict\n",
        "    itinerary: str\n",
        "    activity_suggestions: str\n",
        "    useful_links: list[dict]\n",
        "    weather_forecast: str\n",
        "    packing_list: str\n",
        "    food_culture_info: str\n",
        "    chat_history: Annotated[list[dict], \"List of question-response pairs\"]\n",
        "    user_question: str\n",
        "    chat_response: str\n",
        "\n",
        "# ------------------- LangGraph -------------------\n",
        "\n",
        "workflow = StateGraph(GraphState)\n",
        "workflow.add_node(\"generate_itinerary\", generate_itinerary)\n",
        "# workflow.add_node(\"fetch_useful_links\", fetch_useful_links)\n",
        "# workflow.add_node(\"weather_forecaster\", weather_forecaster)\n",
        "# workflow.add_node(\"recommend_activities\", recommend_activities)\n",
        "# workflow.add_node(\"packing_list_generator\", packing_list_generator)\n",
        "# workflow.add_node(\"food_culture_recommender\", food_culture_recommender)\n",
        "# workflow.add_node(\"chat\", chat_node)\n",
        "workflow.set_entry_point(\"generate_itinerary\")\n",
        "workflow.add_edge(\"generate_itinerary\", END)\n",
        "# workflow.add_edge(\"recommend_activities\", END)\n",
        "# workflow.add_edge(\"fetch_useful_links\", END)\n",
        "# workflow.add_edge(\"weather_forecaster\", END)\n",
        "# workflow.add_edge(\"packing_list_generator\", END)\n",
        "# workflow.add_edge(\"food_culture_recommender\", END)\n",
        "# workflow.add_edge(\"chat\", END)\n",
        "graph = workflow.compile()\n",
        "\n",
        "# ------------------- UI -------------------\n",
        "\n",
        "st.markdown(\"# AI-Powered Travel Itinerary Planner\")\n",
        "\n",
        "if \"state\" not in st.session_state:\n",
        "    st.session_state.state = {\n",
        "        \"preferences_text\": \"\",\n",
        "        \"preferences\": {},\n",
        "        \"itinerary\": \"\",\n",
        "        \"activity_suggestions\": \"\",\n",
        "        \"useful_links\": [],\n",
        "        \"weather_forecast\": \"\",\n",
        "        \"packing_list\": \"\",\n",
        "        \"food_culture_info\": \"\",\n",
        "        \"chat_history\": [],\n",
        "        \"user_question\": \"\",\n",
        "        \"chat_response\": \"\"\n",
        "    }\n",
        "\n",
        "with st.form(\"travel_form\"):\n",
        "    col1, col2 = st.columns(2)\n",
        "    with col1:\n",
        "        destination = st.text_input(\"Destination\")\n",
        "        month = st.selectbox(\"Month of Travel\", [\"January\", \"February\", \"March\", \"April\", \"May\", \"June\", \"July\", \"August\", \"September\", \"October\", \"November\", \"December\"])\n",
        "        duration = st.slider(\"Number of Days\", 1, 30, 7)\n",
        "        num_people = st.selectbox(\"Number of People\", [\"1\", \"2\", \"3\", \"4-6\", \"7-10\", \"10+\"])\n",
        "    with col2:\n",
        "        holiday_type = st.selectbox(\"Holiday Type\", [\"Any\", \"Party\", \"Skiing\", \"Backpacking\", \"Family\", \"Beach\", \"Festival\", \"Adventure\", \"City Break\", \"Romantic\", \"Cruise\"])\n",
        "        budget_type = st.selectbox(\"Budget Type\", [\"Budget\", \"Mid-Range\", \"Luxury\", \"Backpacker\", \"Family\"])\n",
        "        comments = st.text_area(\"Additional Comments\")\n",
        "    submit_btn = st.form_submit_button(\"Generate Itinerary\")\n",
        "\n",
        "if submit_btn:\n",
        "    preferences_text = f\"Destination: {destination}\\nMonth: {month}\\nDuration: {duration} days\\nPeople: {num_people}\\nType: {holiday_type}\\nBudget: {budget_type}\\nComments: {comments}\"\n",
        "    preferences = {\n",
        "        \"destination\": destination,\n",
        "        \"month\": month,\n",
        "        \"duration\": duration,\n",
        "        \"num_people\": num_people,\n",
        "        \"holiday_type\": holiday_type,\n",
        "        \"budget_type\": budget_type,\n",
        "        \"comments\": comments\n",
        "    }\n",
        "    st.session_state.state.update({\n",
        "        \"preferences_text\": preferences_text,\n",
        "        \"preferences\": preferences,\n",
        "        \"chat_history\": [],\n",
        "        \"user_question\": \"\",\n",
        "        \"chat_response\": \"\",\n",
        "        \"activity_suggestions\": \"\",\n",
        "        \"useful_links\": [],\n",
        "        \"weather_forecast\": \"\",\n",
        "        \"packing_list\": \"\",\n",
        "        \"food_culture_info\": \"\"\n",
        "    })\n",
        "    with st.spinner(\"Generating itinerary...\"):\n",
        "        result = graph.invoke(st.session_state.state)\n",
        "        st.session_state.state.update(result)\n",
        "        if result.get(\"itinerary\"):\n",
        "            st.success(\"Itinerary Created\")\n",
        "        else:\n",
        "            st.error(\"Failed to generate itinerary.\")\n",
        "\n",
        "# Layout\n",
        "if st.session_state.state.get(\"itinerary\"):\n",
        "    col_itin, col_chat = st.columns([3, 2])\n",
        "\n",
        "    with col_itin:\n",
        "        st.markdown(\"### Travel Itinerary\")\n",
        "        st.markdown(st.session_state.state[\"itinerary\"])\n",
        "\n",
        "        # All agent buttons in one row\n",
        "        col_btn1, col_btn2, col_btn3, col_btn4, col_btn5 = st.columns(5)\n",
        "        with col_btn1:\n",
        "            if st.button(\"Get Activity Suggestions\"):\n",
        "                with st.spinner(\"Fetching activity suggestions...\"):\n",
        "                    result = recommend_activities(st.session_state.state)\n",
        "                    st.session_state.state.update(result)\n",
        "        with col_btn2:\n",
        "            if st.button(\"Get Useful Links\"):\n",
        "                with st.spinner(\"Fetching useful links...\"):\n",
        "                    result = fetch_useful_links(st.session_state.state)\n",
        "                    st.session_state.state.update(result)\n",
        "        with col_btn3:\n",
        "            if st.button(\"Get Weather Forecast\"):\n",
        "                with st.spinner(\"Fetching weather forecast...\"):\n",
        "                    result = weather_forecaster(st.session_state.state)\n",
        "                    st.session_state.state.update(result)\n",
        "        with col_btn4:\n",
        "            if st.button(\"Get Packing List\"):\n",
        "                with st.spinner(\"Generating packing list...\"):\n",
        "                    result = packing_list_generator(st.session_state.state)\n",
        "                    st.session_state.state.update(result)\n",
        "        with col_btn5:\n",
        "            if st.button(\"Get Food & Culture Info\"):\n",
        "                with st.spinner(\"Fetching food and culture info...\"):\n",
        "                    result = food_culture_recommender(st.session_state.state)\n",
        "                    st.session_state.state.update(result)\n",
        "\n",
        "        # Display all agent outputs in expanders\n",
        "        if st.session_state.state.get(\"activity_suggestions\"):\n",
        "            with st.expander(\"🎯 Activity Suggestions\", expanded=False):\n",
        "                st.markdown(st.session_state.state[\"activity_suggestions\"])\n",
        "\n",
        "        if st.session_state.state.get(\"useful_links\"):\n",
        "            with st.expander(\"🔗 Useful Links\", expanded=False):\n",
        "                for link in st.session_state.state[\"useful_links\"]:\n",
        "                    st.markdown(f\"- [{link['title']}]({link['link']})\")\n",
        "\n",
        "        if st.session_state.state.get(\"weather_forecast\"):\n",
        "            with st.expander(\"🌤️ Weather Forecast\", expanded=False):\n",
        "                st.markdown(st.session_state.state[\"weather_forecast\"])\n",
        "\n",
        "        if st.session_state.state.get(\"packing_list\"):\n",
        "            with st.expander(\"🎒 Packing List\", expanded=False):\n",
        "                st.markdown(st.session_state.state[\"packing_list\"])\n",
        "\n",
        "        if st.session_state.state.get(\"food_culture_info\"):\n",
        "            with st.expander(\"🍽️ Food & Culture Info\", expanded=False):\n",
        "                st.markdown(st.session_state.state[\"food_culture_info\"])\n",
        "\n",
        "        # Export PDF button\n",
        "        if st.button(\"Export as PDF\"):\n",
        "            pdf_path = export_to_pdf(st.session_state.state[\"itinerary\"])\n",
        "            if pdf_path:\n",
        "                with open(pdf_path, \"rb\") as f:\n",
        "                    st.download_button(\"Download Itinerary PDF\", f, file_name=\"itinerary.pdf\")\n",
        "\n",
        "    with col_chat:\n",
        "        st.markdown(\"### Chat About Your Itinerary\")\n",
        "        for chat in st.session_state.state[\"chat_history\"]:\n",
        "            with st.chat_message(\"user\"):\n",
        "                st.markdown(chat[\"question\"])\n",
        "            with st.chat_message(\"assistant\"):\n",
        "                st.markdown(chat[\"response\"])\n",
        "\n",
        "        if user_input := st.chat_input(\"Ask something about your itinerary\"):\n",
        "            st.session_state.state[\"user_question\"] = user_input\n",
        "            with st.spinner(\"Generating response...\"):\n",
        "                result = chat_node(st.session_state.state)\n",
        "                st.session_state.state.update(result)\n",
        "                st.rerun()\n",
        "else:\n",
        "    st.info(\"Fill the form and generate an itinerary to begin.\")"
      ]
    },
    {
      "cell_type": "code",
      "execution_count": null,
      "metadata": {
        "colab": {
          "base_uri": "https://localhost:8080/"
        },
        "id": "hNE8PIA1V2k0",
        "outputId": "98f7bfa1-038c-4270-cfad-31a4c047c212"
      },
      "outputs": [],
      "source": [
        "!npm install localtunnel"
      ]
    },
    {
      "cell_type": "code",
      "execution_count": null,
      "metadata": {
        "colab": {
          "base_uri": "https://localhost:8080/"
        },
        "id": "HW9mBMoNVafF",
        "outputId": "9a1b17d8-9f0e-4c11-e5f7-9c6dcd7a3c6c"
      },
      "outputs": [],
      "source": [
        "!curl https://loca.lt/mytunnelpassword"
      ]
    },
    {
      "cell_type": "code",
      "execution_count": null,
      "metadata": {
        "id": "BtIH-FpmEbZp"
      },
      "outputs": [],
      "source": [
        "!streamlit run /content/app.py &>/content/logs.txt &"
      ]
    },
    {
      "cell_type": "code",
      "execution_count": null,
      "metadata": {
        "colab": {
          "base_uri": "https://localhost:8080/"
        },
        "id": "uac-05eoEg9E",
        "outputId": "58070d0b-df0c-44b9-8018-806381312c10"
      },
      "outputs": [],
      "source": [
        "!npx localtunnel --port 8501"
      ]
    }
  ],
  "metadata": {
    "accelerator": "GPU",
    "colab": {
      "gpuType": "T4",
      "provenance": []
    },
    "kernelspec": {
      "display_name": "Python 3",
      "name": "python3"
    },
    "language_info": {
      "name": "python"
    }
  },
  "nbformat": 4,
  "nbformat_minor": 0
}
